{
 "cells": [
  {
   "cell_type": "markdown",
   "metadata": {},
   "source": [
    "# Lecture 3: Exploratory Data Analysis"
   ]
  },
  {
   "cell_type": "markdown",
   "metadata": {},
   "source": [
    "source\n",
    "- [slides](../lectures/03-EDA.pdf)"
   ]
  },
  {
   "cell_type": "markdown",
   "metadata": {},
   "source": [
    "## Exploratory Data Analysis\n",
    "\n",
    "> The greatest value of a picture is when it forces us to notice what we never expected to see. from John Tukey"
   ]
  },
  {
   "cell_type": "markdown",
   "metadata": {},
   "source": [
    "## Visualization\n",
    "\n"
   ]
  },
  {
   "cell_type": "markdown",
   "metadata": {},
   "source": [
    "### Visualization Goals\n",
    "\n",
    "**Communicate(Explanatory)**\n",
    "\n",
    "- Present data and ideas\n",
    "- Explain and inform\n",
    "- Provide evidence and support\n",
    "- Influence and persuade\n",
    "\n",
    "**Analyze(Exploratory)**\n",
    "\n",
    "- Explore the data\n",
    "- Assess a situation\n",
    "- Determine how to proceed\n",
    "- Decide what to do"
   ]
  },
  {
   "cell_type": "markdown",
   "metadata": {},
   "source": [
    "### Effective Visualizations\n",
    "\n",
    "- Have graphical integrity\n",
    "    - Bar charts value always starts from 0\n",
    "    - Avoid scale distortion\n",
    "- Keep it simple\n",
    "    - Maximize Data-Ink Ratio: Data ink / Total ink used in graphic\n",
    "    - Avoid 3D pie charts\n",
    "    - Avoid chartjunk(extraneous visual elements that distract from the message)\n",
    "- Use The Right Display\n",
    "    - reference: https://extremepresentation.typepad.com/blog/files/choosing_a_good_chart.pdf\n",
    "![Chart Suggestions](images/lec3-02.png)\n",
    "    - perceptual effectiveness\n",
    "![Perceptual Effectiveness](images/lec3-03.png)\n",
    "- Use color strategically\n",
    "    - Do not use more than 5-8 colors at once\n",
    "    - Avoid rainbow colors\n",
    "    - Use Color Brewer\n",
    "        - reference: [color-brewer-2.0](http://colorbrewer2.org/)\n",
    "![Color Brewer](images/lec3-04.png)\n",
    "- Tell a story with data\n",
    "    - See [lecture 6](lec6.ipynb)"
   ]
  },
  {
   "cell_type": "markdown",
   "metadata": {},
   "source": [
    "### Further Readings\n",
    "\n",
    "![Edward Tufte](images/lec3-01.png)\n",
    "![Stephen Few](images/lec3-05.png)"
   ]
  },
  {
   "cell_type": "code",
   "execution_count": null,
   "metadata": {},
   "outputs": [],
   "source": []
  }
 ],
 "metadata": {
  "kernelspec": {
   "display_name": "Python 3",
   "language": "python",
   "name": "python3"
  },
  "language_info": {
   "codemirror_mode": {
    "name": "ipython",
    "version": 3
   },
   "file_extension": ".py",
   "mimetype": "text/x-python",
   "name": "python",
   "nbconvert_exporter": "python",
   "pygments_lexer": "ipython3",
   "version": "3.6.5"
  }
 },
 "nbformat": 4,
 "nbformat_minor": 4
}
