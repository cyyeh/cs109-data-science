{
 "cells": [
  {
   "cell_type": "markdown",
   "metadata": {},
   "source": [
    "# Lecture 1: Course Overview"
   ]
  },
  {
   "cell_type": "markdown",
   "metadata": {},
   "source": [
    "source\n",
    "- [slides](../lectures/01-Introduction.pdf)"
   ]
  },
  {
   "cell_type": "markdown",
   "metadata": {},
   "source": [
    "## Introduction to Data Science"
   ]
  },
  {
   "cell_type": "markdown",
   "metadata": {},
   "source": [
    "### What is Data Science?\n",
    "\n",
    "![what-is-data-science](images/lec1-01.png)"
   ]
  },
  {
   "cell_type": "markdown",
   "metadata": {},
   "source": [
    "### Data Science Spectrum\n",
    "\n",
    "![data-science-spectrum](images/lec1-02.png)"
   ]
  },
  {
   "cell_type": "markdown",
   "metadata": {},
   "source": [
    "### Science Paradigms\n",
    "\n",
    "![science-paradigms](images/lec1-03.png)"
   ]
  },
  {
   "cell_type": "markdown",
   "metadata": {},
   "source": [
    "### Data Science Process\n",
    "\n",
    "![data-science-process](images/lec1-04.png)"
   ]
  },
  {
   "cell_type": "markdown",
   "metadata": {},
   "source": [
    "## Introduction to CS109"
   ]
  },
  {
   "cell_type": "markdown",
   "metadata": {},
   "source": [
    "### Course Outlines\n",
    "\n",
    "- **data munging/scraping/sampling/cleaning** in order to get an informative, manageable data set\n",
    "- **data storage and management** in order to be able to access data quickly and reliably during subsequent analysis\n",
    "- **exploratory data analysis** to generate hypothesis and intuition about the data\n",
    "- **prediction** based on statistical tools such as regression, classification and clustering\n",
    "- **communication** of results through visualization, stories and interpretable summaries"
   ]
  },
  {
   "cell_type": "markdown",
   "metadata": {},
   "source": [
    "### Topics\n",
    "\n",
    "- Data Collection, \"Munging\" and Storage\n",
    "- Exploratory Data Analysis(EDA)\n",
    "- Classification & Regression\n",
    "- Cross Validation\n",
    "- Dimensionality Reduction\n",
    "- Effective Communication & Writing\n",
    "- Support Vector Machines\n",
    "- Decision Trees & Random Forests\n",
    "- Bagging & Boosting\n",
    "- Machine Learning Best Practices\n",
    "- MapReduce, Amazon's EC2 and Spark\n",
    "- Bayesian Thinking & Naive Bayes\n",
    "- Text Analysis: LDA & Topic Modeling\n",
    "- Clustering\n",
    "- Effective Presentations\n",
    "- Deep Learning\n",
    "- Experimental Design"
   ]
  },
  {
   "cell_type": "code",
   "execution_count": null,
   "metadata": {},
   "outputs": [],
   "source": []
  }
 ],
 "metadata": {
  "kernelspec": {
   "display_name": "Python 3",
   "language": "python",
   "name": "python3"
  },
  "language_info": {
   "codemirror_mode": {
    "name": "ipython",
    "version": 3
   },
   "file_extension": ".py",
   "mimetype": "text/x-python",
   "name": "python",
   "nbconvert_exporter": "python",
   "pygments_lexer": "ipython3",
   "version": "3.6.5"
  }
 },
 "nbformat": 4,
 "nbformat_minor": 4
}
